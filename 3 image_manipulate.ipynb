{
 "cells": [
  {
   "cell_type": "code",
   "execution_count": 1,
   "id": "4334ee45-039f-4770-a489-1b514fcd066f",
   "metadata": {},
   "outputs": [],
   "source": [
    "import os\n",
    "import numpy as np\n",
    "from skimage import io\n",
    "from skimage import transform as tf\n",
    "from IPython.display import Image, display\n",
    "from PIL import Image, ImageEnhance"
   ]
  },
  {
   "cell_type": "code",
   "execution_count": 104,
   "id": "eda4020a-98ad-4c35-a784-52ea1dfe3f6d",
   "metadata": {},
   "outputs": [],
   "source": [
    "# example for picking an arbitrary image\n",
    "for i, file in enumerate(os.listdir('data/train/ix/')):\n",
    "    X = io.imread('data/train/ix/'+file)\n",
    "    if i > 5:\n",
    "        break"
   ]
  },
  {
   "cell_type": "code",
   "execution_count": 2,
   "id": "fb135b93-8863-4a87-935c-0d7bf054f271",
   "metadata": {},
   "outputs": [],
   "source": [
    "# augmentation functions\n",
    "def shear(image, shear):\n",
    "    # Create Afine transform\n",
    "    afine_tf = tf.AffineTransform(shear=shear)\n",
    "    # Apply transform to image data\n",
    "    modified = tf.warp(image, inverse_map=afine_tf, cval=1, mode ='constant')\n",
    "    \n",
    "    return modified\n",
    "\n",
    "def flip(image, axis):\n",
    "    if axis == 'horizontal':\n",
    "        return np.flip(image, 1)\n",
    "    else:\n",
    "        return np.flip(image, 0)\n",
    "        \n",
    "def smear(image, axis, factor):\n",
    "    if axis == 'horizontal':\n",
    "        # resize\n",
    "        image_resized = tf.resize(image, (image.shape[0] // (factor**-1), image.shape[1]), anti_aliasing=True)\n",
    "        image_rescaled = tf.rescale(image_resized, factor**-1)\n",
    "        # set boundaries\n",
    "        L = (image_rescaled.shape[1] // 2)-(image.shape[1] // 2)\n",
    "        R = (image_rescaled.shape[1] // 2)+(image.shape[1] // 2)\n",
    "        image_rescaled = image_rescaled[:, L:R]\n",
    "        \n",
    "    else:\n",
    "        # resize\n",
    "        image_resized = tf.resize(image, (image.shape[0], (image.shape[1] // (factor**-1))), anti_aliasing=True)\n",
    "        image_rescaled = tf.rescale(image_resized, factor**-1)\n",
    "        # set boundaries\n",
    "        U = (image_rescaled.shape[0] // 2)-(image.shape[0] // 2)\n",
    "        D = (image_rescaled.shape[0] // 2)+(image.shape[0] // 2)\n",
    "        image_rescaled = image_rescaled[U:D, :]\n",
    "        \n",
    "    return image_rescaled\n",
    "\n",
    "def rotate(image, angle):\n",
    "    return tf.rotate(image, angle, cval=1)\n",
    "    \n",
    "def corner(image, corner, factor): # take factor portion of the image from the corner\n",
    "    if corner == 'UL':\n",
    "        cropped_image = image[:int(image.shape[0]*factor), :int(image.shape[1]*factor),]\n",
    "        cropped_image = tf.resize(cropped_image, image.shape)\n",
    "    elif corner == 'UR':\n",
    "        cropped_image = image[:int(image.shape[0]*factor), int(image.shape[1]*(1-factor)):]\n",
    "        cropped_image = tf.resize(cropped_image, image.shape)\n",
    "    elif corner == 'DL':\n",
    "        cropped_image = image[int(image.shape[0]*(1-factor)):, :int(image.shape[1]*factor),]\n",
    "        cropped_image = tf.resize(cropped_image, image.shape)\n",
    "    else:\n",
    "        cropped_image = image[int(image.shape[0]*(1-factor)):, int(image.shape[1]*(1-factor)):]\n",
    "        cropped_image = tf.resize(cropped_image, image.shape)\n",
    "\n",
    "    return cropped_image\n",
    "\n",
    "def composite(target, i_img):\n",
    "    def last_nonzero(arr, axis, invalid_val=-1):\n",
    "        mask = arr < 1\n",
    "        val = arr.shape[axis] - np.flip(mask, axis=axis).argmax(axis=axis) - 1\n",
    "        return np.where(mask.any(axis=axis), val, invalid_val)\n",
    "\n",
    "    def first_nonzero(arr, axis, invalid_val=1000):\n",
    "        mask = arr < 1\n",
    "        return np.where(mask.any(axis=axis), mask.argmax(axis=axis), invalid_val)\n",
    "    \n",
    "    if target == 'ii':\n",
    "        R = np.min(first_nonzero(i_img, 1))\n",
    "        L = np.max(last_nonzero(i_img, 1))\n",
    "        i = i_img[:, R:L]//255\n",
    "        ii_image = np.hstack([np.ones((i_img.shape[0], R-i.shape[1]//2)), i, np.roll(i, -2, 0), np.ones((i_img.shape[0], i_img.shape[1]-L-i.shape[1]//2))])\n",
    "        \n",
    "        return ii_image\n",
    "    \n",
    "    if target == 'iii':\n",
    "        R = np.min(first_nonzero(i_img, 1))\n",
    "        L = np.max(last_nonzero(i_img, 1))\n",
    "        i = i_img[:, R:L]//255\n",
    "        iii_image = np.hstack([np.ones((i_img.shape[0], R-i.shape[1]//2)), i, np.roll(i, -1, 0), np.roll(i, -3, 0), np.ones((i_img.shape[0], i_img.shape[1]-L-i.shape[1]//2))])        \n",
    "        \n",
    "        return iii_image\n",
    "\n",
    "def prepare_img(img): # photoshop an image to fit our dataset in terms of brightness and contrast\n",
    "    # brightness\n",
    "    curr_contrast = ImageEnhance.Contrast(img)\n",
    "    new_contrast = 8\n",
    "    img = curr_contrast.enhance(new_contrast)\n",
    "    \n",
    "    # contrast\n",
    "    curr_brightness = ImageEnhance.Brightness(img)\n",
    "    new_brightness = 4\n",
    "    img = curr_brightness.enhance(new_brightness)\n",
    "    \n",
    "    return img"
   ]
  },
  {
   "cell_type": "code",
   "execution_count": 70,
   "id": "3153fdf0-2100-4aff-91d0-4cd2ad631bcf",
   "metadata": {},
   "outputs": [],
   "source": [
    "# photoshopping images from the added dataset\n",
    "for c in ['i', 'ii', 'iii', 'iv', 'ix', 'v', 'vi', 'vii', 'viii', 'x']:\n",
    "    for i, file in enumerate(os.listdir(f'HWRN/{c}/')):\n",
    "        try:\n",
    "            img = Image.open(f'HWRN/{c}/'+file)\n",
    "            h = np.mean(img)\n",
    "            if h < 100:\n",
    "                continue\n",
    "            img = prepare_img(img)\n",
    "            img.save(f'HWRN_mod/{c}/'+file[:-4]+'_mod.png')\n",
    "        except:\n",
    "            continue"
   ]
  },
  {
   "cell_type": "code",
   "execution_count": 149,
   "id": "fa7771e7-4bb5-4e12-9498-0ad838756019",
   "metadata": {},
   "outputs": [
    {
     "data": {
      "image/png": "[encoded data removed]",
      "text/plain": [
       "<Figure size 432x288 with 1 Axes>"
      ]
     },
     "metadata": {
      "needs_background": "light"
     },
     "output_type": "display_data"
    }
   ],
   "source": [
    "io.imshow(X)\n",
    "io.show()"
   ]
  },
  {
   "cell_type": "markdown",
   "id": "2a88acd2-e2d3-40ab-b4bc-26d9b6fa83dd",
   "metadata": {},
   "source": [
    "### Create augmentation directories"
   ]
  },
  {
   "cell_type": "code",
   "execution_count": 3,
   "id": "65ce8ffe-34d6-4f64-879d-073e025245f8",
   "metadata": {},
   "outputs": [],
   "source": [
    "def create_dir(parent_dir, new_dir):\n",
    "    path = os.path.join(parent_dir, new_dir)\n",
    "    os.mkdir(path)\n",
    "    return path"
   ]
  },
  {
   "cell_type": "code",
   "execution_count": 6,
   "id": "019652e7-c0b7-4aa6-a64a-186ae14416b2",
   "metadata": {},
   "outputs": [],
   "source": [
    "augment_dir = 'augmentations-hwrn'\n",
    "# origin_dir = f'data_cleaned/train/{c}/'\n",
    "# origin_dir = f'HWRN_mod/{c}/'"
   ]
  },
  {
   "cell_type": "markdown",
   "id": "66e3db8c-d184-4f28-b402-24a06e46c863",
   "metadata": {},
   "source": [
    "### Creating the datasets \n",
    "All datasets are with the following structure:\n",
    "\n",
    "augmentation -> augmentation parameter -> classes"
   ]
  },
  {
   "cell_type": "code",
   "execution_count": 7,
   "id": "c2259ecf-1b3a-4387-9154-9492cab57d3a",
   "metadata": {},
   "outputs": [],
   "source": [
    "# shearing\n",
    "shear_dir = create_dir(augment_dir, 'shear')\n",
    "for s in [-0.2, -0.1, 0.1, 0.2]:\n",
    "    mod_path = create_dir(shear_dir, f'shear_{s}')\n",
    "    for c in ['i', 'ii', 'iii', 'iv', 'ix', 'v', 'vi', 'vii', 'viii', 'x']:\n",
    "        c_in_mod_path = create_dir(mod_path, c)\n",
    "        for i, file in enumerate(os.listdir(f'HWRN_mod/{c}/')):\n",
    "            try:\n",
    "                img = io.imread(f'HWRN_mod/{c}/'+file)\n",
    "                img = (shear(img, s)*255).astype(np.uint8)\n",
    "                sans_point = ''.join([c for c in str(s) if c != '.'])\n",
    "                img_path = c_in_mod_path + '/' + file[:-4] + f'_shear_{sans_point}.png'\n",
    "                io.imsave(img_path, img)\n",
    "            except:\n",
    "                continue"
   ]
  },
  {
   "cell_type": "code",
   "execution_count": 8,
   "id": "38c6dee3-149a-4b2d-b28f-21df11f04626",
   "metadata": {},
   "outputs": [],
   "source": [
    "# smear - horizontal\n",
    "mod = 'smear_h'\n",
    "mod_dir = create_dir(augment_dir, mod)\n",
    "for s in [0.6, 0.75]:\n",
    "    s_mod_path = create_dir(mod_dir, f'{mod}_{s}')\n",
    "    for c in ['i', 'ii', 'iii', 'iv', 'ix', 'v', 'vi', 'vii', 'viii', 'x']:\n",
    "        c_in_mod_path = create_dir(s_mod_path, c)\n",
    "        for i, file in enumerate(os.listdir(f'HWRN_mod/{c}/')):\n",
    "            try:\n",
    "                img = io.imread(f'HWRN_mod/{c}/'+file)\n",
    "                img = (smear(img, 'horizontal', s)*255).astype(np.uint8)\n",
    "                sans_point = ''.join([c for c in str(s) if c != '.'])\n",
    "                img_path = c_in_mod_path + '/' + file[:-4] + f'_{mod}_{sans_point}.png'\n",
    "                io.imsave(img_path, img)\n",
    "            except:\n",
    "                continue"
   ]
  },
  {
   "cell_type": "code",
   "execution_count": 9,
   "id": "65c6b6d9-516c-4887-80cf-fa9a521a5da1",
   "metadata": {},
   "outputs": [],
   "source": [
    "# smear - vertical\n",
    "mod = 'smear_v'\n",
    "mod_dir = create_dir(augment_dir, mod)\n",
    "for s in [0.6, 0.75]:\n",
    "    s_mod_path = create_dir(mod_dir, f'{mod}_{s}')\n",
    "    for c in ['i', 'ii', 'iii', 'iv', 'ix', 'v', 'vi', 'vii', 'viii', 'x']:\n",
    "        c_in_mod_path = create_dir(s_mod_path, c)\n",
    "        for i, file in enumerate(os.listdir(f'HWRN_mod/{c}/')):\n",
    "            try:\n",
    "                img = io.imread(f'HWRN_mod/{c}/'+file)\n",
    "                img = (smear(img, 'vertical', s)*255).astype(np.uint8)\n",
    "                sans_point = ''.join([c for c in str(s) if c != '.'])\n",
    "                img_path = c_in_mod_path + '/' + file[:-4] + f'_{mod}_{sans_point}.png'\n",
    "                io.imsave(img_path, img)\n",
    "            except:\n",
    "                continue"
   ]
  },
  {
   "cell_type": "code",
   "execution_count": 10,
   "id": "5157110a-c663-4662-a439-3cc971cf0e1b",
   "metadata": {},
   "outputs": [],
   "source": [
    "# rotation\n",
    "mod = 'rotate'\n",
    "mod_dir = create_dir(augment_dir, mod)\n",
    "for s in [-15, -10, 10, 15]:\n",
    "    s_mod_path = create_dir(mod_dir, f'{mod}_{s}')\n",
    "    for c in ['i', 'ii', 'iii', 'iv', 'ix', 'v', 'vi', 'vii', 'viii', 'x']:\n",
    "        c_in_mod_path = create_dir(s_mod_path, c)\n",
    "        for i, file in enumerate(os.listdir(f'HWRN_mod/{c}/')):\n",
    "            try:\n",
    "                img = io.imread(f'HWRN_mod/{c}/'+file)\n",
    "                img = (rotate(img, s)*255).astype(np.uint8)\n",
    "                sans_point = ''.join([c for c in str(s) if c != '.'])\n",
    "                img_path = c_in_mod_path + '/' + file[:-4] + f'_{mod}_{sans_point}.png'\n",
    "                io.imsave(img_path, img)\n",
    "            except:\n",
    "                continue"
   ]
  },
  {
   "cell_type": "code",
   "execution_count": 11,
   "id": "03e113fd-c4ac-4c0e-8f86-a34444bb15ae",
   "metadata": {},
   "outputs": [],
   "source": [
    "# flip\n",
    "flip_dict = {\n",
    "    'horizontal': \n",
    "        {'i': 'i',\n",
    "        'ii': 'ii',\n",
    "        'iii': 'iii',\n",
    "        'iv': 'vi',\n",
    "        'v': 'v',\n",
    "        'vi': 'iv',\n",
    "        'x': 'x'},\n",
    "    \n",
    "    'vertical': \n",
    "        {'i': 'i',\n",
    "        'ii': 'ii',\n",
    "        'iii': 'iii',\n",
    "        'ix': 'ix',\n",
    "        'x': 'x'}\n",
    "}\n",
    "\n",
    "mod = 'flip'\n",
    "mod_dir = create_dir(augment_dir, mod)\n",
    "for s in ['horizontal', 'vertical']:\n",
    "    s_mod_path = create_dir(mod_dir, f'{mod}_{s}')\n",
    "    for c in flip_dict[s]:\n",
    "        c_in_mod_path = create_dir(s_mod_path, flip_dict[s][c])\n",
    "        for i, file in enumerate(os.listdir(f'HWRN_mod/{c}/')):\n",
    "            try:\n",
    "                img = io.imread(f'HWRN_mod/{c}/'+file)\n",
    "                img = flip(img, s)\n",
    "                sans_point = ''.join([c for c in str(s) if c != '.'])\n",
    "                img_path = c_in_mod_path + '/' + file[:-4] + f'_{mod}_{sans_point}.png'\n",
    "                io.imsave(img_path, img)\n",
    "            except:\n",
    "                continue"
   ]
  },
  {
   "cell_type": "code",
   "execution_count": 12,
   "id": "ae97f067-a95c-43d7-8c4d-a3d12190f0d9",
   "metadata": {},
   "outputs": [
    {
     "name": "stderr",
     "output_type": "stream",
     "text": [
      "/tmp/ipykernel_29784/101927493.py:16: UserWarning: augmentations-hwrn/composite/composite_i stacking/ii/ac64aa4e-ce5d-11eb-b317-38f9d35ea60f_composite_i stacking.png is a low contrast image\n",
      "  io.imsave(img_path, img)\n"
     ]
    }
   ],
   "source": [
    "### composite\n",
    "mod = 'composite'\n",
    "mod_dir = create_dir(augment_dir, mod)\n",
    "for s in ['i stacking']:\n",
    "    s_mod_path = create_dir(mod_dir, f'{mod}_{s}')\n",
    "    for c in ['ii', 'iii']:\n",
    "        c_in_mod_path = create_dir(s_mod_path, c)\n",
    "        for i, file in enumerate(os.listdir(f'data_cleaned/train/i/')):\n",
    "            try:\n",
    "                img = io.imread(f'data_cleaned/train/i/'+file)\n",
    "                img = (composite(c, img)*255).astype(np.uint8)\n",
    "                if img.shape[1] / img.shape[0] > 2:\n",
    "                    continue\n",
    "                sans_point = ''.join([c for c in str(s) if c != '.'])\n",
    "                img_path = c_in_mod_path + '/' + file[:-4] + f'_{mod}_{sans_point}.png'\n",
    "                io.imsave(img_path, img)\n",
    "            except:\n",
    "                continue"
   ]
  },
  {
   "cell_type": "code",
   "execution_count": 13,
   "id": "693daa6f-8866-46c6-a2f9-d44cf2760817",
   "metadata": {},
   "outputs": [
    {
     "data": {
      "text/plain": [
       "31022"
      ]
     },
     "execution_count": 13,
     "metadata": {},
     "output_type": "execute_result"
    }
   ],
   "source": [
    "'''\n",
    "    For the given path, get the List of all files in the directory tree \n",
    "'''\n",
    "def getListOfFiles(dirName):\n",
    "    # create a list of file and sub directories \n",
    "    # names in the given directory \n",
    "    listOfFile = os.listdir(dirName)\n",
    "    allFiles = list()\n",
    "    # Iterate over all the entries\n",
    "    for entry in listOfFile:\n",
    "        # Create full path\n",
    "        fullPath = os.path.join(dirName, entry)\n",
    "        # If entry is a directory then get the list of files in this directory \n",
    "        if os.path.isdir(fullPath):\n",
    "            allFiles = allFiles + getListOfFiles(fullPath)\n",
    "        else:\n",
    "            allFiles.append(fullPath)\n",
    "                \n",
    "    return allFiles\n",
    "\n",
    "len(getListOfFiles(augment_dir))"
   ]
  }
 ],
 "metadata": {
  "kernelspec": {
   "display_name": "Python 3 (ipykernel)",
   "language": "python",
   "name": "python3"
  },
  "language_info": {
   "codemirror_mode": {
    "name": "ipython",
    "version": 3
   },
   "file_extension": ".py",
   "mimetype": "text/x-python",
   "name": "python",
   "nbconvert_exporter": "python",
   "pygments_lexer": "ipython3",
   "version": "3.9.12"
  }
 },
 "nbformat": 4,
 "nbformat_minor": 5
}
