{
 "cells": [
  {
   "cell_type": "code",
   "execution_count": 4,
   "id": "01bf72ec-5448-4ecf-9c4e-087f37000683",
   "metadata": {},
   "outputs": [],
   "source": [
    "import os\n",
    "import shutil"
   ]
  },
  {
   "cell_type": "code",
   "execution_count": 5,
   "id": "e790d190-f270-48ee-ab47-cb7d291c9f3e",
   "metadata": {},
   "outputs": [
    {
     "name": "stdout",
     "output_type": "stream",
     "text": [
      "/home/student/HW2/.ipynb_checkpoints\n"
     ]
    }
   ],
   "source": [
    "def list_all_dirs_under(rootDir): \n",
    "    list_dirs = os.walk(rootDir)\n",
    "    all_dirs = []\n",
    "    for root, dirs, files in list_dirs: \n",
    "        for d in dirs: \n",
    "            all_dirs.append(os.path.join(root, d))\n",
    "    return all_dirs\n",
    "\n",
    "for d in list_all_dirs_under(os.path.abspath(os.getcwd())):\n",
    "    if '.ipynb_checkpoints' in str(d):\n",
    "        print(d)\n",
    "        shutil.rmtree(d)"
   ]
  },
  {
   "cell_type": "code",
   "execution_count": 6,
   "id": "37e45604-f9b5-4fb0-8fd9-31d56871bc0d",
   "metadata": {},
   "outputs": [],
   "source": [
    "for d in list_all_dirs_under(os.path.abspath(os.getcwd())):\n",
    "    if '.ipynb_checkpoints' in str(d):\n",
    "        print(d)"
   ]
  },
  {
   "cell_type": "code",
   "execution_count": 12,
   "id": "9329859a-3e8b-4bf7-88f6-397ea4060d15",
   "metadata": {},
   "outputs": [
    {
     "data": {
      "text/plain": [
       "25710"
      ]
     },
     "execution_count": 12,
     "metadata": {},
     "output_type": "execute_result"
    }
   ],
   "source": [
    "def list_all_files_under(rootDir): \n",
    "    list_dirs = os.walk(rootDir)\n",
    "    all_files = []\n",
    "    for root, dirs, files in list_dirs: \n",
    "        for f in files: \n",
    "            all_files.append(os.path.join(root, f))\n",
    "    return all_files\n",
    "\n",
    "len(list_all_files_under('data_orig')), len(list_all_files_under('data_cleaned'))\n",
    "len(list_all_files_under('augmentations-o'))"
   ]
  }
 ],
 "metadata": {
  "kernelspec": {
   "display_name": "Python 3 (ipykernel)",
   "language": "python",
   "name": "python3"
  },
  "language_info": {
   "codemirror_mode": {
    "name": "ipython",
    "version": 3
   },
   "file_extension": ".py",
   "mimetype": "text/x-python",
   "name": "python",
   "nbconvert_exporter": "python",
   "pygments_lexer": "ipython3",
   "version": "3.9.12"
  }
 },
 "nbformat": 4,
 "nbformat_minor": 5
}
