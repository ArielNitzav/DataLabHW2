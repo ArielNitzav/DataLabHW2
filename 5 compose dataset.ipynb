{
 "cells": [
  {
   "cell_type": "code",
   "execution_count": 1,
   "id": "26ee8013-7390-4d86-9fcb-04239857ada9",
   "metadata": {},
   "outputs": [],
   "source": [
    "import os\n",
    "import shutil\n",
    "import random"
   ]
  },
  {
   "cell_type": "code",
   "execution_count": 2,
   "id": "8256d4ee-f17c-43e3-bc13-94e29975135a",
   "metadata": {},
   "outputs": [],
   "source": [
    "def create_dir(parent_dir, new_dir):\n",
    "    path = os.path.join(parent_dir, new_dir)\n",
    "    os.mkdir(path)\n",
    "    return path"
   ]
  },
  {
   "cell_type": "code",
   "execution_count": 3,
   "id": "06bd3e47-b6e8-4472-945d-87d839ac87ad",
   "metadata": {},
   "outputs": [],
   "source": [
    "# create train, test and classes directories\n",
    "os.mkdir('data')\n",
    "create_dir('data', 'train')\n",
    "create_dir('data', 'val')\n",
    "\n",
    "for c in ['i', 'ii', 'iii', 'iv', 'ix', 'v', 'vi', 'vii', 'viii', 'x']:\n",
    "    try:\n",
    "        create_dir('data/train', c)\n",
    "        create_dir('data/val', c)\n",
    "    except:\n",
    "        continue"
   ]
  },
  {
   "cell_type": "code",
   "execution_count": 4,
   "id": "111cc0ef-b60b-4a9c-b25c-022c5bc49108",
   "metadata": {},
   "outputs": [],
   "source": [
    "# create a validation set based on the cleaned data only\n",
    "files_to_val_wt_png_dict_c = {}\n",
    "for c in ['i', 'ii', 'iii', 'iv', 'ix', 'v', 'vi', 'vii', 'viii', 'x']:\n",
    "    cleaned_data_class_path = f'data_cleaned/train/{c}'\n",
    "    dest_data_class_train_path = f'data/train/{c}'\n",
    "    dest_data_class_val_path = f'data/val/{c}'\n",
    "    files = os.listdir(cleaned_data_class_path)\n",
    "    files_to_val = random.sample(files, 0)#int(0.2*len(files)))\n",
    "    files_to_val_wt_png_dict_c[c] = [f[:-4] for f in files_to_val]\n",
    "    files_to_train = [f for f in files if f not in files_to_val]\n",
    "    for f in files_to_train:\n",
    "        shutil.copy(os.path.join(cleaned_data_class_path, f), dest_data_class_train_path)\n",
    "    for f in files_to_val: \n",
    "        shutil.copy(os.path.join(cleaned_data_class_path, f), dest_data_class_val_path)"
   ]
  },
  {
   "cell_type": "code",
   "execution_count": 5,
   "id": "c005cd36-b64d-4590-90ba-6cd4c3fd04f3",
   "metadata": {},
   "outputs": [],
   "source": [
    "for mod in os.listdir(\"augmentations-o\"):\n",
    "    mod_dir = os.path.join(\"augmentations-o\", mod)\n",
    "    for mod_parameter in os.listdir(mod_dir):\n",
    "        mod_parameter_dir = os.path.join(mod_dir, mod_parameter)\n",
    "        for c_dir in os.listdir(mod_parameter_dir):\n",
    "            c_dir_path = os.path.join(mod_parameter_dir, c_dir) # example: augmentations-o/smear_v/smear_v_0.6/i\n",
    "            dest_data_class_train_path = f'data/train/{c_dir}'\n",
    "            dest_data_class_val_path = f'data/val/{c_dir}'\n",
    "            for file in os.listdir(c_dir_path):\n",
    "                file_path = os.path.join(c_dir_path, file)\n",
    "                is_val = False\n",
    "                for f in files_to_val_wt_png_dict_c[c_dir]:\n",
    "                    if f in file:\n",
    "                        is_val = True\n",
    "                        shutil.copy(file_path, dest_data_class_val_path)\n",
    "                        break\n",
    "                if not is_val:\n",
    "                    shutil.copy(file_path, dest_data_class_train_path)"
   ]
  }
 ],
 "metadata": {
  "kernelspec": {
   "display_name": "Python 3 (ipykernel)",
   "language": "python",
   "name": "python3"
  },
  "language_info": {
   "codemirror_mode": {
    "name": "ipython",
    "version": 3
   },
   "file_extension": ".py",
   "mimetype": "text/x-python",
   "name": "python",
   "nbconvert_exporter": "python",
   "pygments_lexer": "ipython3",
   "version": "3.9.12"
  }
 },
 "nbformat": 4,
 "nbformat_minor": 5
}
