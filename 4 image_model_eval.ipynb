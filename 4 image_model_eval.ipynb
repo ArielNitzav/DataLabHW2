{
 "cells": [
  {
   "cell_type": "code",
   "execution_count": 3,
   "id": "1660e430-cb22-48a9-b4c6-dbad5a29933f",
   "metadata": {},
   "outputs": [
    {
     "name": "stderr",
     "output_type": "stream",
     "text": [
      "/home/student/miniconda3/envs/hw_094295_env/lib/python3.9/site-packages/tqdm/auto.py:22: TqdmWarning: IProgress not found. Please update jupyter and ipywidgets. See https://ipywidgets.readthedocs.io/en/stable/user_install.html\n",
      "  from .autonotebook import tqdm as notebook_tqdm\n"
     ]
    },
    {
     "name": "stdout",
     "output_type": "stream",
     "text": [
      "Your working directory is:  /home/student/HW2\n"
     ]
    },
    {
     "data": {
      "text/plain": [
       "<torch._C.Generator at 0x7fab944cb4f0>"
      ]
     },
     "execution_count": 3,
     "metadata": {},
     "output_type": "execute_result"
    }
   ],
   "source": [
    "import os\n",
    "\n",
    "import torch\n",
    "import torch.nn as nn\n",
    "import torch.optim as optim\n",
    "from torch.optim import lr_scheduler\n",
    "\n",
    "import torchvision\n",
    "from torchvision import models, transforms, datasets\n",
    "\n",
    "import matplotlib.pyplot as plt\n",
    "import time\n",
    "import copy\n",
    "from tqdm import tqdm\n",
    "\n",
    "print(\"Your working directory is: \", os.getcwd())\n",
    "torch.manual_seed(0)"
   ]
  },
  {
   "cell_type": "code",
   "execution_count": 1,
   "id": "448feeb3-b982-4bc4-89be-524eba9fc4e7",
   "metadata": {},
   "outputs": [],
   "source": [
    "import pickle\n",
    "import numpy as np\n",
    "from skimage import io\n",
    "from skimage import transform as tf\n",
    "from IPython.display import Image, display\n",
    "from PIL import Image, ImageEnhance"
   ]
  },
  {
   "cell_type": "code",
   "execution_count": 4,
   "id": "5911123c-0d63-4b1e-8f56-2ab5901ab4dc",
   "metadata": {},
   "outputs": [],
   "source": [
    "# Use a prebuilt pytorch's ResNet50 model\n",
    "model_ft = models.resnet50(pretrained=False)\n",
    "# Fit the last layer for our specific task\n",
    "num_ftrs = model_ft.fc.in_features\n",
    "model_ft.fc = nn.Linear(num_ftrs, 10)"
   ]
  },
  {
   "cell_type": "code",
   "execution_count": 5,
   "id": "35741554-9c18-4635-8a54-81fa165e7610",
   "metadata": {},
   "outputs": [],
   "source": [
    "device = torch.device(\"cuda:0\" if torch.cuda.is_available() else \"cpu\")\n",
    "ckpt = torch.load('trained_model_resnet_pick.pt')\n",
    "model_ft.load_state_dict(ckpt)\n",
    "model_ft.eval()\n",
    "model_ft = model_ft.to(device)"
   ]
  },
  {
   "cell_type": "code",
   "execution_count": 6,
   "id": "dbfd1a88-8318-4573-b2fd-807907e9121d",
   "metadata": {},
   "outputs": [
    {
     "name": "stdout",
     "output_type": "stream",
     "text": [
      "The classes are:  {0: 'i', 1: 'ii', 2: 'iii', 3: 'iv', 4: 'ix', 5: 'v', 6: 'vi', 7: 'vii', 8: 'viii', 9: 'x'}\n"
     ]
    }
   ],
   "source": [
    "# Training hyperparameters\n",
    "BATCH_SIZE = 16\n",
    "NUM_EPOCHS = 100\n",
    "LR = 0.001\n",
    "\n",
    "# Paths to your train and val directories\n",
    "#train_dir = os.path.join(\"data\", \"train\") ########\n",
    "train_dir = 'data_extended/train'\n",
    "\n",
    "# Resize the samples and transform them into tensors\n",
    "data_transforms = transforms.Compose([transforms.Resize([64, 64]), transforms.ToTensor()])\n",
    "\n",
    "# Create a pytorch dataset from a directory of images\n",
    "train_dataset = datasets.ImageFolder(train_dir, data_transforms)\n",
    "\n",
    "class_names = train_dataset.classes\n",
    "idx_to_class = {i: c for i, c in enumerate(class_names)}\n",
    "print(\"The classes are: \", idx_to_class)\n",
    "\n",
    "# Dataloaders initialization\n",
    "train_dataloader = torch.utils.data.DataLoader(train_dataset, batch_size=BATCH_SIZE, shuffle=True)"
   ]
  },
  {
   "cell_type": "code",
   "execution_count": 17,
   "id": "034268ce-3865-4e71-b228-df1a99b5b4cd",
   "metadata": {},
   "outputs": [
    {
     "data": {
      "image/png": "[encoded data removed]",
      "text/plain": [
       "<Figure size 432x288 with 1 Axes>"
      ]
     },
     "metadata": {
      "needs_background": "light"
     },
     "output_type": "display_data"
    }
   ],
   "source": [
    "misslabeled = {label: [] for label in idx_to_class.values()}\n",
    "best_prob = 0\n",
    "best_prob_list = []\n",
    "counter = 0\n",
    "for tensor_label, file_label in zip(train_dataset, train_dataset.imgs):\n",
    "    counter += 1\n",
    "    tensor = tensor_label[0].unsqueeze(0).to(device)\n",
    "    label = tensor_label[1]\n",
    "    file = file_label[0]\n",
    "    output = model_ft(tensor)\n",
    "    output = torch.sigmoid(output)\n",
    "    prob, pred = torch.max(output, 1)\n",
    "    best_prob_list.append(prob.item())\n",
    "    best_prob += prob.item()\n",
    "    if pred.item() != label:\n",
    "        misslabeled[idx_to_class[label]].append((file, idx_to_class[pred.item()]))\n",
    "\n"
   ]
  },
  {
   "cell_type": "code",
   "execution_count": 19,
   "id": "33aca65e-3494-4306-b4c7-dc5180021d1d",
   "metadata": {},
   "outputs": [
    {
     "data": {
      "image/png": "[encoded data removed]",
      "text/plain": [
       "<Figure size 432x288 with 1 Axes>"
      ]
     },
     "metadata": {
      "needs_background": "light"
     },
     "output_type": "display_data"
    }
   ],
   "source": [
    "plt.hist(best_prob_list, bins=100)\n",
    "plt.xlabel('Probability of chosen class')\n",
    "plt.ylabel('Counts')\n",
    "plt.show()"
   ]
  },
  {
   "cell_type": "code",
   "execution_count": 12,
   "id": "93139f00-dcc4-45ff-a61c-0a1ce9bcfeb0",
   "metadata": {},
   "outputs": [
    {
     "data": {
      "text/plain": [
       "14"
      ]
     },
     "execution_count": 12,
     "metadata": {},
     "output_type": "execute_result"
    }
   ],
   "source": [
    "sum([len(v) for v in misslabeled.values()])"
   ]
  },
  {
   "cell_type": "code",
   "execution_count": 117,
   "id": "027fdb6c-e6ab-40ee-9cb0-c2c5507e24d9",
   "metadata": {},
   "outputs": [
    {
     "data": {
      "text/plain": [
       "[('HWRN_mod/i/1683395415_mod.png', 'ii'),\n",
       " ('HWRN_mod/i/180645601_mod.png', 'vi'),\n",
       " ('HWRN_mod/i/2379801092_mod.png', 'ii'),\n",
       " ('HWRN_mod/i/3039174331_mod.png', 'ii'),\n",
       " ('HWRN_mod/i/3446132194_mod.png', 'iii'),\n",
       " ('HWRN_mod/i/3897771876_mod.png', 'ii'),\n",
       " ('HWRN_mod/i/405503729_mod.png', 'ii'),\n",
       " ('HWRN_mod/i/6094716305_mod.png', 'ii'),\n",
       " ('HWRN_mod/i/6101560183_mod.png', 'iii'),\n",
       " ('HWRN_mod/i/6767672758_mod.png', 'ii'),\n",
       " ('HWRN_mod/i/8562062098_mod.png', 'ii'),\n",
       " ('HWRN_mod/i/9033801386_mod.png', 'iii'),\n",
       " ('HWRN_mod/i/9750768394_mod.png', 'ii')]"
      ]
     },
     "execution_count": 117,
     "metadata": {},
     "output_type": "execute_result"
    }
   ],
   "source": [
    "misslabeled['i']"
   ]
  },
  {
   "cell_type": "code",
   "execution_count": 118,
   "id": "f5fdf4d0-8e20-435a-8e64-eb9ac9feaa06",
   "metadata": {},
   "outputs": [
    {
     "name": "stdout",
     "output_type": "stream",
     "text": [
      "HWRN_mod/i/1683395415_mod.png\n",
      "ii\n"
     ]
    },
    {
     "data": {
      "image/png": "[encoded data removed]",
      "text/plain": [
       "<Figure size 432x288 with 1 Axes>"
      ]
     },
     "metadata": {
      "needs_background": "light"
     },
     "output_type": "display_data"
    },
    {
     "name": "stdout",
     "output_type": "stream",
     "text": [
      "HWRN_mod/i/180645601_mod.png\n",
      "vi\n"
     ]
    },
    {
     "data": {
      "image/png": "[encoded data removed]",
      "text/plain": [
       "<Figure size 432x288 with 1 Axes>"
      ]
     },
     "metadata": {
      "needs_background": "light"
     },
     "output_type": "display_data"
    },
    {
     "name": "stdout",
     "output_type": "stream",
     "text": [
      "HWRN_mod/i/2379801092_mod.png\n",
      "ii\n"
     ]
    },
    {
     "data": {
      "image/png": "[encoded data removed]",
      "text/plain": [
       "<Figure size 432x288 with 1 Axes>"
      ]
     },
     "metadata": {
      "needs_background": "light"
     },
     "output_type": "display_data"
    },
    {
     "name": "stdout",
     "output_type": "stream",
     "text": [
      "HWRN_mod/i/3039174331_mod.png\n",
      "ii\n"
     ]
    },
    {
     "data": {
      "image/png": "[encoded data removed]",
      "text/plain": [
       "<Figure size 432x288 with 1 Axes>"
      ]
     },
     "metadata": {
      "needs_background": "light"
     },
     "output_type": "display_data"
    },
    {
     "name": "stdout",
     "output_type": "stream",
     "text": [
      "HWRN_mod/i/3446132194_mod.png\n",
      "iii\n"
     ]
    },
    {
     "data": {
      "image/png": "[encoded data removed]",
      "text/plain": [
       "<Figure size 432x288 with 1 Axes>"
      ]
     },
     "metadata": {
      "needs_background": "light"
     },
     "output_type": "display_data"
    },
    {
     "name": "stdout",
     "output_type": "stream",
     "text": [
      "HWRN_mod/i/3897771876_mod.png\n",
      "ii\n"
     ]
    },
    {
     "data": {
      "image/png": "[encoded data removed]",
      "text/plain": [
       "<Figure size 432x288 with 1 Axes>"
      ]
     },
     "metadata": {
      "needs_background": "light"
     },
     "output_type": "display_data"
    },
    {
     "name": "stdout",
     "output_type": "stream",
     "text": [
      "HWRN_mod/i/405503729_mod.png\n",
      "ii\n"
     ]
    },
    {
     "data": {
      "image/png": "[encoded data removed]",
      "text/plain": [
       "<Figure size 432x288 with 1 Axes>"
      ]
     },
     "metadata": {
      "needs_background": "light"
     },
     "output_type": "display_data"
    },
    {
     "name": "stdout",
     "output_type": "stream",
     "text": [
      "HWRN_mod/i/6094716305_mod.png\n",
      "ii\n"
     ]
    },
    {
     "data": {
      "image/png": "[encoded data removed]",
      "text/plain": [
       "<Figure size 432x288 with 1 Axes>"
      ]
     },
     "metadata": {
      "needs_background": "light"
     },
     "output_type": "display_data"
    },
    {
     "name": "stdout",
     "output_type": "stream",
     "text": [
      "HWRN_mod/i/6101560183_mod.png\n",
      "iii\n"
     ]
    },
    {
     "data": {
      "image/png": "[encoded data removed]",
      "text/plain": [
       "<Figure size 432x288 with 1 Axes>"
      ]
     },
     "metadata": {
      "needs_background": "light"
     },
     "output_type": "display_data"
    },
    {
     "name": "stdout",
     "output_type": "stream",
     "text": [
      "HWRN_mod/i/6767672758_mod.png\n",
      "ii\n"
     ]
    },
    {
     "data": {
      "image/png": "[encoded data removed]",
      "text/plain": [
       "<Figure size 432x288 with 1 Axes>"
      ]
     },
     "metadata": {
      "needs_background": "light"
     },
     "output_type": "display_data"
    },
    {
     "name": "stdout",
     "output_type": "stream",
     "text": [
      "HWRN_mod/i/8562062098_mod.png\n",
      "ii\n"
     ]
    },
    {
     "data": {
      "image/png": "[encoded data removed]",
      "text/plain": [
       "<Figure size 432x288 with 1 Axes>"
      ]
     },
     "metadata": {
      "needs_background": "light"
     },
     "output_type": "display_data"
    },
    {
     "name": "stdout",
     "output_type": "stream",
     "text": [
      "HWRN_mod/i/9033801386_mod.png\n",
      "iii\n"
     ]
    },
    {
     "data": {
      "image/png": "[encoded data removed]",
      "text/plain": [
       "<Figure size 432x288 with 1 Axes>"
      ]
     },
     "metadata": {
      "needs_background": "light"
     },
     "output_type": "display_data"
    },
    {
     "name": "stdout",
     "output_type": "stream",
     "text": [
      "HWRN_mod/i/9750768394_mod.png\n",
      "ii\n"
     ]
    },
    {
     "data": {
      "image/png": "[encoded data removed]",
      "text/plain": [
       "<Figure size 432x288 with 1 Axes>"
      ]
     },
     "metadata": {
      "needs_background": "light"
     },
     "output_type": "display_data"
    }
   ],
   "source": [
    "for file, pred in misslabeled['i']:\n",
    "    img = io.imread(file)\n",
    "    print(file)\n",
    "    print(pred)\n",
    "    io.imshow(img)\n",
    "    io.show()"
   ]
  },
  {
   "cell_type": "code",
   "execution_count": 8,
   "id": "19097280-1607-4134-a60a-cc6cb3e6c2cf",
   "metadata": {},
   "outputs": [
    {
     "name": "stdout",
     "output_type": "stream",
     "text": [
      "Done 0.0\n",
      "Done 18.08776182035235\n",
      "Done 36.1755236407047\n",
      "Done 54.26328546105705\n",
      "Done 72.3510472814094\n",
      "Done 90.43880910176175\n"
     ]
    }
   ],
   "source": [
    "# Use the model object to select the desired layer\n",
    "layer = model_ft._modules.get('avgpool')\n",
    "\n",
    "def get_vector(image):\n",
    "    # Create a vector of zeros that will hold our feature vector\n",
    "    # The 'avgpool' layer has an output size of 512\n",
    "    my_embedding = torch.zeros(2048)\n",
    "\n",
    "    # Define a function that will copy the output of a layer\n",
    "    def copy_data(m, i, o):\n",
    "        my_embedding.copy_(o.flatten())                 # <-- flatten\n",
    "\n",
    "    # Attach that function to our selected layer\n",
    "    h = layer.register_forward_hook(copy_data)\n",
    "    # Run the model on our transformed image\n",
    "    with torch.no_grad():                               # <-- no_grad context\n",
    "        model_ft(image)                                 # <-- unsqueeze\n",
    "    # Detach our copy function from the layer\n",
    "    h.remove()\n",
    "    # Return the feature vector\n",
    "    return my_embedding\n",
    "\n",
    "files_list = []\n",
    "label_list = []\n",
    "vecs_list = []\n",
    "\n",
    "c = 0\n",
    "\n",
    "for tensor_label, file_label in zip(train_dataset, train_dataset.imgs):\n",
    "    tensor = tensor_label[0].unsqueeze(0).to(device)\n",
    "    label = tensor_label[1]\n",
    "    file = file_label[0]\n",
    "    v = np.array(get_vector(tensor))\n",
    "    \n",
    "    files_list.append(file)\n",
    "    label_list.append(idx_to_class[label])\n",
    "    vecs_list.append(v)\n",
    "    if not c % 5000:\n",
    "        print(f\"Done {100*c/27643}\")\n",
    "    c += 1"
   ]
  },
  {
   "cell_type": "code",
   "execution_count": 9,
   "id": "d541ddb9-b83f-480e-8712-abc41a67678a",
   "metadata": {},
   "outputs": [
    {
     "data": {
      "text/plain": [
       "(27643, 2048)"
      ]
     },
     "execution_count": 9,
     "metadata": {},
     "output_type": "execute_result"
    }
   ],
   "source": [
    "vecs_list = np.array(vecs_list)\n",
    "vecs_list.shape"
   ]
  },
  {
   "cell_type": "code",
   "execution_count": 10,
   "id": "9b34eab1-772b-456b-b65f-ca8f51cffbe0",
   "metadata": {},
   "outputs": [],
   "source": [
    "np.save('train_imgs_vecs.npy', vecs_list)\n",
    "\n",
    "with open('train_imgs_files_list.pkl', 'wb') as f:\n",
    "    pickle.dump(files_list, f)\n",
    "\n",
    "with open('train_imgs_labels_list.pkl', 'wb') as f:\n",
    "    pickle.dump(label_list, f)"
   ]
  }
 ],
 "metadata": {
  "kernelspec": {
   "display_name": "Python 3 (ipykernel)",
   "language": "python",
   "name": "python3"
  },
  "language_info": {
   "codemirror_mode": {
    "name": "ipython",
    "version": 3
   },
   "file_extension": ".py",
   "mimetype": "text/x-python",
   "name": "python",
   "nbconvert_exporter": "python",
   "pygments_lexer": "ipython3",
   "version": "3.9.12"
  }
 },
 "nbformat": 4,
 "nbformat_minor": 5
}
